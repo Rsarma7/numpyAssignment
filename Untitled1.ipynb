{
 "cells": [
  {
   "cell_type": "code",
   "execution_count": 187,
   "id": "5f60a04f",
   "metadata": {},
   "outputs": [],
   "source": [
    "import numpy as np\n"
   ]
  },
  {
   "cell_type": "code",
   "execution_count": 188,
   "id": "e72a795e",
   "metadata": {},
   "outputs": [],
   "source": [
    "arr1 = np.loadtxt(\"data.txt\",dtype='str',delimiter= ' ', encoding=None)"
   ]
  },
  {
   "cell_type": "code",
   "execution_count": 189,
   "id": "27c610e1",
   "metadata": {},
   "outputs": [
    {
     "name": "stdout",
     "output_type": "stream",
     "text": [
      "[['01' '^' 'Java' '']\n",
      " ['02' '^' 'Python' '']\n",
      " ['03' '^' 'HTML' '']\n",
      " ['04' '^' 'CSS' '']\n",
      " ['05' '^' 'JavaScript' '']\n",
      " ['06' '^' 'React' '']\n",
      " ['07' '^' 'Angular' '']\n",
      " ['08' '^' 'Node' '']\n",
      " ['09' '^' 'Spring' '']\n",
      " ['10' '^' 'Go' '']]\n"
     ]
    }
   ],
   "source": [
    "print (arr1)"
   ]
  },
  {
   "cell_type": "code",
   "execution_count": 190,
   "id": "96e821cc",
   "metadata": {},
   "outputs": [],
   "source": [
    "arr1.tofile('data2.csv', sep = ',')"
   ]
  },
  {
   "cell_type": "code",
   "execution_count": 162,
   "id": "8fe763f0",
   "metadata": {},
   "outputs": [],
   "source": []
  },
  {
   "cell_type": "code",
   "execution_count": null,
   "id": "0a81f270",
   "metadata": {},
   "outputs": [],
   "source": []
  },
  {
   "cell_type": "raw",
   "id": "92c0ac26",
   "metadata": {},
   "source": [
    "import pandas as pd"
   ]
  },
  {
   "cell_type": "code",
   "execution_count": null,
   "id": "c02da509",
   "metadata": {},
   "outputs": [],
   "source": []
  },
  {
   "cell_type": "code",
   "execution_count": 37,
   "id": "6dcf12f4",
   "metadata": {},
   "outputs": [],
   "source": [
    "dataset = pd.read_csv(\"data.txt\")"
   ]
  },
  {
   "cell_type": "code",
   "execution_count": 38,
   "id": "756b72cd",
   "metadata": {},
   "outputs": [
    {
     "name": "stdout",
     "output_type": "stream",
     "text": [
      "         01 ^ Java\n",
      "0      02 ^ Python\n",
      "1        03 ^ HTML\n",
      "2         04 ^ CSS\n",
      "3  05 ^ JavaScript\n",
      "4       06 ^ React\n",
      "5     07 ^ Angular\n",
      "6        08 ^ Node\n",
      "7      09 ^ Spring\n",
      "8          10 ^ Go\n"
     ]
    }
   ],
   "source": [
    "print (dataset)"
   ]
  },
  {
   "cell_type": "code",
   "execution_count": null,
   "id": "3e4c7712",
   "metadata": {},
   "outputs": [],
   "source": []
  },
  {
   "cell_type": "code",
   "execution_count": null,
   "id": "8e7f99c8",
   "metadata": {},
   "outputs": [],
   "source": []
  }
 ],
 "metadata": {
  "kernelspec": {
   "display_name": "Python 3 (ipykernel)",
   "language": "python",
   "name": "python3"
  },
  "language_info": {
   "codemirror_mode": {
    "name": "ipython",
    "version": 3
   },
   "file_extension": ".py",
   "mimetype": "text/x-python",
   "name": "python",
   "nbconvert_exporter": "python",
   "pygments_lexer": "ipython3",
   "version": "3.9.12"
  }
 },
 "nbformat": 4,
 "nbformat_minor": 5
}
