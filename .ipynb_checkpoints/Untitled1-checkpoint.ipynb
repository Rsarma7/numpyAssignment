{
 "cells": [
  {
   "cell_type": "code",
   "execution_count": 136,
   "id": "5f60a04f",
   "metadata": {},
   "outputs": [],
   "source": [
    "import numpy as np"
   ]
  },
  {
   "cell_type": "code",
   "execution_count": 138,
   "id": "e72a795e",
   "metadata": {},
   "outputs": [
    {
     "ename": "SyntaxError",
     "evalue": "invalid syntax (4218285523.py, line 1)",
     "output_type": "error",
     "traceback": [
      "\u001b[1;36m  Input \u001b[1;32mIn [138]\u001b[1;36m\u001b[0m\n\u001b[1;33m    arr1 = np.loadtxt(\"data.txt\",dtype='str',delimiter= ' ', encoding=None)splitlines (keepends=None)\u001b[0m\n\u001b[1;37m                                                                           ^\u001b[0m\n\u001b[1;31mSyntaxError\u001b[0m\u001b[1;31m:\u001b[0m invalid syntax\n"
     ]
    }
   ],
   "source": [
    "arr1 = np.loadtxt(\"data.txt\",dtype='str',delimiter= ' ', encoding=None).splitlines (keepends=None)"
   ]
  },
  {
   "cell_type": "code",
   "execution_count": 133,
   "id": "a04997b8",
   "metadata": {},
   "outputs": [],
   "source": [
    "arr1 = np.arange(3,11)"
   ]
  },
  {
   "cell_type": "code",
   "execution_count": null,
   "id": "51be4f97",
   "metadata": {},
   "outputs": [],
   "source": []
  },
  {
   "cell_type": "code",
   "execution_count": 134,
   "id": "6ab733b7",
   "metadata": {},
   "outputs": [
    {
     "name": "stdout",
     "output_type": "stream",
     "text": [
      "[['01' '^' 'Java']\n",
      " ['02' '^' 'Python']\n",
      " ['03' '^' 'HTML']\n",
      " ['04' '^' 'CSS']\n",
      " ['05' '^' 'JavaScript']\n",
      " ['06' '^' 'React']\n",
      " ['07' '^' 'Angular']\n",
      " ['08' '^' 'Node']\n",
      " ['09' '^' 'Spring']\n",
      " ['10' '^' 'Go']]\n"
     ]
    }
   ],
   "source": [
    "print (arr)"
   ]
  },
  {
   "cell_type": "code",
   "execution_count": 135,
   "id": "96e821cc",
   "metadata": {},
   "outputs": [],
   "source": [
    "arr.tofile('data2.csv', sep = ',')"
   ]
  },
  {
   "cell_type": "code",
   "execution_count": null,
   "id": "189856c8",
   "metadata": {},
   "outputs": [],
   "source": []
  },
  {
   "cell_type": "code",
   "execution_count": null,
   "id": "c25411e5",
   "metadata": {},
   "outputs": [],
   "source": [
    "arr = np.arange(1,11)"
   ]
  },
  {
   "cell_type": "code",
   "execution_count": null,
   "id": "bebee564",
   "metadata": {},
   "outputs": [],
   "source": []
  },
  {
   "cell_type": "raw",
   "id": "92c0ac26",
   "metadata": {},
   "source": [
    "import pandas as pd"
   ]
  },
  {
   "cell_type": "code",
   "execution_count": null,
   "id": "63338812",
   "metadata": {},
   "outputs": [],
   "source": []
  },
  {
   "cell_type": "code",
   "execution_count": 37,
   "id": "6dcf12f4",
   "metadata": {},
   "outputs": [],
   "source": [
    "dataset = pd.read_csv(\"data.txt\")"
   ]
  },
  {
   "cell_type": "code",
   "execution_count": 38,
   "id": "756b72cd",
   "metadata": {},
   "outputs": [
    {
     "name": "stdout",
     "output_type": "stream",
     "text": [
      "         01 ^ Java\n",
      "0      02 ^ Python\n",
      "1        03 ^ HTML\n",
      "2         04 ^ CSS\n",
      "3  05 ^ JavaScript\n",
      "4       06 ^ React\n",
      "5     07 ^ Angular\n",
      "6        08 ^ Node\n",
      "7      09 ^ Spring\n",
      "8          10 ^ Go\n"
     ]
    }
   ],
   "source": [
    "print (dataset)"
   ]
  },
  {
   "cell_type": "code",
   "execution_count": null,
   "id": "3e4c7712",
   "metadata": {},
   "outputs": [],
   "source": []
  },
  {
   "cell_type": "code",
   "execution_count": null,
   "id": "8e7f99c8",
   "metadata": {},
   "outputs": [],
   "source": []
  }
 ],
 "metadata": {
  "kernelspec": {
   "display_name": "Python 3 (ipykernel)",
   "language": "python",
   "name": "python3"
  },
  "language_info": {
   "codemirror_mode": {
    "name": "ipython",
    "version": 3
   },
   "file_extension": ".py",
   "mimetype": "text/x-python",
   "name": "python",
   "nbconvert_exporter": "python",
   "pygments_lexer": "ipython3",
   "version": "3.9.12"
  }
 },
 "nbformat": 4,
 "nbformat_minor": 5
}
